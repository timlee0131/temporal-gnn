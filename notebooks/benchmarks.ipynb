{
 "cells": [
  {
   "cell_type": "markdown",
   "metadata": {},
   "source": [
    "# Loading Benchmark Datasets"
   ]
  },
  {
   "cell_type": "code",
   "execution_count": 1,
   "metadata": {},
   "outputs": [],
   "source": [
    "import tsl\n",
    "import torch\n",
    "import torch.nn as nn\n",
    "import torch.nn.functional as F\n",
    "from torch_geometric.nn import MessagePassing\n",
    "import math\n",
    "\n",
    "from torch.optim import Adam\n",
    "from tsl.datasets import PeMS04, PeMS07, PeMS08, PemsBay\n",
    "from tsl.datasets import MetrLA, ElectricityBenchmark, SolarBenchmark, TrafficBenchmark, ExchangeBenchmark\n",
    "from tsl.data import SpatioTemporalDataset\n",
    "from tsl.data.datamodule import (SpatioTemporalDataModule,\n",
    "                                 TemporalSplitter)\n",
    "from tsl.data.preprocessing import StandardScaler\n",
    "from einops.layers.torch import Rearrange\n",
    "\n",
    "import numpy as np\n",
    "import pandas as pd\n",
    "import matplotlib.pyplot as plt\n",
    "\n",
    "from tqdm import tqdm"
   ]
  },
  {
   "cell_type": "markdown",
   "metadata": {},
   "source": [
    "### Approaches to Connectivity Construction"
   ]
  },
  {
   "cell_type": "code",
   "execution_count": 2,
   "metadata": {},
   "outputs": [],
   "source": [
    "from torch_geometric.data import Data"
   ]
  },
  {
   "cell_type": "code",
   "execution_count": 3,
   "metadata": {},
   "outputs": [],
   "source": [
    "def create_ramanujan_expander(num_nodes, d):\n",
    "    \"\"\"\n",
    "    Creates a d-regular graph and attempts to optimize it to have \n",
    "    Ramanujan properties by iteratively improving the spectral gap.\n",
    "    \n",
    "    Args:\n",
    "        num_nodes: Number of nodes in the graph\n",
    "        d: Degree of each node (must be even for d-regular graphs)\n",
    "    \n",
    "    Returns:\n",
    "        edge_index: Tensor of shape [2, num_edges] containing the edge indices\n",
    "    \"\"\"\n",
    "    if d % 2 != 0:\n",
    "        raise ValueError(\"For d-regular graphs, d must be even\")\n",
    "    \n",
    "    if d >= num_nodes:\n",
    "        raise ValueError(\"d must be less than the number of nodes\")\n",
    "    \n",
    "    # Initialize with a random d-regular graph\n",
    "    stubs = torch.arange(num_nodes).repeat_interleave(d)\n",
    "    stubs = stubs[torch.randperm(stubs.size(0))]\n",
    "    \n",
    "    edges = []\n",
    "    for i in range(0, stubs.size(0), 2):\n",
    "        u, v = stubs[i].item(), stubs[i+1].item()\n",
    "        if u != v and (u, v) not in edges and (v, u) not in edges:\n",
    "            edges.append((u, v))\n",
    "            edges.append((v, u))\n",
    "    \n",
    "    edge_index = torch.tensor(edges, dtype=torch.long).t()\n",
    "    \n",
    "    # Optimize the graph to have better Ramanujan properties\n",
    "    best_edge_index = edge_index.clone()\n",
    "    best_lambda2 = float('inf')\n",
    "    ramanujan_bound = 2 * np.sqrt(d - 1)\n",
    "    \n",
    "    # Simple optimization: Try several random configurations and keep the best\n",
    "    for _ in range(10):  # Try 10 different configurations\n",
    "        # Create a new random d-regular graph\n",
    "        stubs = torch.arange(num_nodes).repeat_interleave(d)\n",
    "        stubs = stubs[torch.randperm(stubs.size(0))]\n",
    "        \n",
    "        edges = []\n",
    "        for i in range(0, stubs.size(0), 2):\n",
    "            u, v = stubs[i].item(), stubs[i+1].item()\n",
    "            if u != v and (u, v) not in edges and (v, u) not in edges:\n",
    "                edges.append((u, v))\n",
    "                edges.append((v, u))\n",
    "        \n",
    "        edge_index = torch.tensor(edges, dtype=torch.long).t()\n",
    "        \n",
    "        # Check spectral properties\n",
    "        adj_matrix = torch.zeros((num_nodes, num_nodes))\n",
    "        for i, j in edge_index.t():\n",
    "            adj_matrix[i, j] = 1\n",
    "        \n",
    "        eigenvalues = torch.linalg.eigvalsh(adj_matrix)\n",
    "        eigenvalues = torch.sort(torch.abs(eigenvalues))[0]\n",
    "        lambda2 = eigenvalues[-2].item()\n",
    "        \n",
    "        # Keep the best configuration\n",
    "        if lambda2 < best_lambda2:\n",
    "            best_lambda2 = lambda2\n",
    "            best_edge_index = edge_index.clone()\n",
    "            \n",
    "            # If we found a Ramanujan graph, we can stop\n",
    "            if lambda2 <= ramanujan_bound:\n",
    "                break\n",
    "    \n",
    "    # Create a PyTorch Geometric Data object\n",
    "    data = Data(x=torch.ones(num_nodes, 1), edge_index=best_edge_index)\n",
    "    \n",
    "    is_ramanujan = best_lambda2 <= ramanujan_bound\n",
    "    print(f\"Created {'Ramanujan' if is_ramanujan else 'non-Ramanujan'} graph with λ₂ = {best_lambda2:.4f} (bound: {ramanujan_bound:.4f})\")\n",
    "    \n",
    "    return best_edge_index\n"
   ]
  },
  {
   "cell_type": "code",
   "execution_count": 4,
   "metadata": {},
   "outputs": [
    {
     "name": "stdout",
     "output_type": "stream",
     "text": [
      "Processing ElectricityBenchmark...\n",
      "Created Ramanujan graph with λ₂ = 4.4055 (bound: 4.4721)\n",
      "Processing ExchangeBenchmark...\n",
      "Created Ramanujan graph with λ₂ = 2.5929 (bound: 4.4721)\n",
      "Processing SolarBenchmark...\n",
      "Created Ramanujan graph with λ₂ = 4.3100 (bound: 4.4721)\n",
      "Processing TrafficBenchmark...\n",
      "Created Ramanujan graph with λ₂ = 4.4207 (bound: 4.4721)\n"
     ]
    }
   ],
   "source": [
    "benchmark_electricity = ElectricityBenchmark(root='data/benchmark_electricity')\n",
    "benchmark_exchange = ExchangeBenchmark(root='data/benchmark_exchange')\n",
    "benchmark_solar = SolarBenchmark(root='data/benchmark_solar')\n",
    "benchmark_traffic = TrafficBenchmark(root='data/benchmark_traffic')\n",
    "\n",
    "benchmarks = [benchmark_electricity, benchmark_exchange, benchmark_solar, benchmark_traffic]\n",
    "benchmark_loader_dict = {}\n",
    "\n",
    "for benchmark in benchmarks:\n",
    "    print(f\"Processing {benchmark.name}...\")\n",
    "    \n",
    "    edge_index = create_ramanujan_expander(num_nodes=len(benchmark.nodes), d=6)\n",
    "\n",
    "    # subclass of torch.utils.data.Dataset\n",
    "    torch_dataset = SpatioTemporalDataset(\n",
    "        target=benchmark.dataframe(),\n",
    "        connectivity=(edge_index, None),\n",
    "        mask=benchmark.mask,\n",
    "        horizon=96,\n",
    "        window=96,\n",
    "        stride=1\n",
    "    )\n",
    "\n",
    "    scalers = {'target': StandardScaler(axis=(0, 1))}\n",
    "\n",
    "    # Split data sequentially:\n",
    "    #   |------------ dataset -----------|\n",
    "    #   |--- train ---|- val -|-- test --|\n",
    "    splitter = TemporalSplitter(val_len=0.1, test_len=0.2)\n",
    "\n",
    "    dm = SpatioTemporalDataModule(\n",
    "        dataset=torch_dataset,\n",
    "        scalers=scalers,\n",
    "        splitter=splitter,\n",
    "        batch_size=64,\n",
    "    )\n",
    "\n",
    "    dm.setup()\n",
    "\n",
    "    # train_loader = dm.train_dataloader()\n",
    "    # val_loader = dm.val_dataloader()\n",
    "    # test_loader = dm.test_dataloader()\n",
    "    \n",
    "    # benchmark_loader_dict[benchmark.name] = {\n",
    "    #     'train': train_loader,\n",
    "    #     'val': val_loader,\n",
    "    #     'test': test_loader\n",
    "    # }\n",
    "    \n",
    "    benchmark_loader_dict[benchmark.name] = dm"
   ]
  },
  {
   "cell_type": "code",
   "execution_count": 10,
   "metadata": {},
   "outputs": [
    {
     "name": "stdout",
     "output_type": "stream",
     "text": [
      "ElectricityBenchmark\n",
      "292 32 82\n",
      "ExchangeBenchmark\n",
      "81 8 24\n",
      "SolarBenchmark\n",
      "587 64 164\n",
      "TrafficBenchmark\n",
      "193 21 55\n"
     ]
    }
   ],
   "source": [
    "for key, value in benchmark_loader_dict.items():\n",
    "    print(key)\n",
    "    train = value.train_dataloader()\n",
    "    val = value.val_dataloader()\n",
    "    test = value.test_dataloader()\n",
    "    print(len(train), len(val), len(test))"
   ]
  },
  {
   "cell_type": "code",
   "execution_count": 45,
   "metadata": {},
   "outputs": [
    {
     "data": {
      "text/plain": [
       "StaticBatch(\n",
       "  input=(x=[b=10, t=96, n=321, f=1], edge_index=[2, e=1912]),\n",
       "  target=(y=[b=10, t=96, n=321, f=1]),\n",
       "  has_mask=True,\n",
       "  transform=[x, y]\n",
       ")"
      ]
     },
     "execution_count": 45,
     "metadata": {},
     "output_type": "execute_result"
    }
   ],
   "source": [
    "benchmark_loader_dict['ElectricityBenchmark']['train'].dataset[:10]"
   ]
  }
 ],
 "metadata": {
  "kernelspec": {
   "display_name": "torch-st",
   "language": "python",
   "name": "python3"
  },
  "language_info": {
   "codemirror_mode": {
    "name": "ipython",
    "version": 3
   },
   "file_extension": ".py",
   "mimetype": "text/x-python",
   "name": "python",
   "nbconvert_exporter": "python",
   "pygments_lexer": "ipython3",
   "version": "3.10.16"
  }
 },
 "nbformat": 4,
 "nbformat_minor": 2
}
