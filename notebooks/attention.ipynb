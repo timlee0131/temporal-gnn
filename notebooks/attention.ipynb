{
 "cells": [
  {
   "cell_type": "code",
   "execution_count": 1,
   "metadata": {},
   "outputs": [],
   "source": [
    "import tsl\n",
    "import torch\n",
    "import torch.nn as nn\n",
    "import torch.nn.functional as F\n",
    "import torch_geometric\n",
    "\n",
    "from torch.optim import Adam\n",
    "from tsl.datasets import PeMS04, PeMS07, PeMS08, PemsBay\n",
    "from tsl.datasets import MetrLA\n",
    "from tsl.data import SpatioTemporalDataset\n",
    "from tsl.data.datamodule import (SpatioTemporalDataModule,\n",
    "                                 TemporalSplitter)\n",
    "from tsl.data.preprocessing import StandardScaler\n",
    "from einops.layers.torch import Rearrange\n",
    "\n",
    "import numpy as np\n",
    "import pandas as pd\n",
    "import matplotlib.pyplot as plt\n",
    "\n",
    "from tqdm import tqdm"
   ]
  },
  {
   "cell_type": "code",
   "execution_count": 2,
   "metadata": {},
   "outputs": [
    {
     "name": "stderr",
     "output_type": "stream",
     "text": [
      "/users/hunjael/.conda/envs/torch-st/lib/python3.10/site-packages/tsl/datasets/metr_la.py:98: FutureWarning: 'T' is deprecated and will be removed in a future version, please use 'min' instead.\n",
      "  date_range = pd.date_range(df.index[0], df.index[-1], freq='5T')\n",
      "/users/hunjael/.conda/envs/torch-st/lib/python3.10/site-packages/tsl/datasets/metr_la.py:109: FutureWarning: The 'method' keyword in DataFrame.replace is deprecated and will be removed in a future version.\n",
      "  df = df.replace(to_replace=0., method='ffill')\n"
     ]
    }
   ],
   "source": [
    "dataset_MetrLA = MetrLA(root='data/MetrLA')\n",
    "\n",
    "# get_connectivity uses get_similarity under the hood\n",
    "connectivity = dataset_MetrLA.get_connectivity(threshold=0.1, include_self=False, normalize_axis=1, layout=\"edge_index\")\n",
    "\n",
    "# subclass of torch.utils.data.Dataset\n",
    "torch_dataset = SpatioTemporalDataset(\n",
    "    target=dataset_MetrLA.dataframe(),\n",
    "    connectivity=connectivity,\n",
    "    mask=dataset_MetrLA.mask,\n",
    "    horizon=6,\n",
    "    window=12,\n",
    "    stride=1\n",
    ")\n",
    "\n",
    "scalers = {'target': StandardScaler(axis=(0, 1))}\n",
    "\n",
    "# Split data sequentially:\n",
    "#   |------------ dataset -----------|\n",
    "#   |--- train ---|- val -|-- test --|\n",
    "splitter = TemporalSplitter(val_len=0.1, test_len=0.2)\n",
    "\n",
    "dm = SpatioTemporalDataModule(\n",
    "    dataset=torch_dataset,\n",
    "    scalers=scalers,\n",
    "    splitter=splitter,\n",
    "    batch_size=64,\n",
    ")\n",
    "\n",
    "dm.setup()\n",
    "\n",
    "train_loader = dm.train_dataloader()\n",
    "val_loader = dm.val_dataloader()\n",
    "test_loader = dm.test_dataloader()"
   ]
  },
  {
   "cell_type": "code",
   "execution_count": null,
   "metadata": {},
   "outputs": [
    {
     "data": {
      "text/plain": [
       "StaticBatch(\n",
       "  input=(x=[b=10, t=12, n=207, f=1], edge_index=[2, e=1515], edge_weight=[e=1515]),\n",
       "  target=(y=[b=10, t=6, n=207, f=1]),\n",
       "  has_mask=True,\n",
       "  transform=[x, y]\n",
       ")"
      ]
     },
     "execution_count": 3,
     "metadata": {},
     "output_type": "execute_result"
    }
   ],
   "source": [
    "sample_data = torch_dataset[:10]\n",
    "sample_data"
   ]
  },
  {
   "cell_type": "code",
   "execution_count": 20,
   "metadata": {},
   "outputs": [
    {
     "name": "stdout",
     "output_type": "stream",
     "text": [
      "x:  torch.Size([10, 12, 207, 1])\n",
      "hidden:  24  num heads:  8  hidden per head:  3\n",
      "Q, K, V:  torch.Size([10, 207, 8, 12, 3]) torch.Size([10, 207, 8, 12, 3]) torch.Size([10, 207, 8, 12, 3])\n",
      "attn:  torch.Size([10, 207, 8, 12, 12])\n",
      "out:  torch.Size([10, 12, 207, 1])\n"
     ]
    }
   ],
   "source": [
    "x = sample_data.x\n",
    "B, L, N, D = x.shape\n",
    "\n",
    "print(\"x: \", x.shape)\n",
    "\n",
    "hidden = 24\n",
    "num_heads = 8\n",
    "hidden_per_head = hidden // num_heads\n",
    "\n",
    "print(\"hidden: \", hidden, \" num heads: \", num_heads, \" hidden per head: \", hidden_per_head)\n",
    "\n",
    "query = nn.Linear(1, hidden)\n",
    "key = nn.Linear(1, hidden)\n",
    "value = nn.Linear(1, hidden)\n",
    "out_proj = nn.Linear(hidden, 1)\n",
    "\n",
    "Q = query(x).view(B, L, N, num_heads, hidden_per_head)\n",
    "K = key(x).view(B, L, N, num_heads, hidden_per_head)\n",
    "V = value(x).view(B, L, N, num_heads, hidden_per_head)\n",
    "\n",
    "# Rearrange for batch computation across nodes\n",
    "Q = Q.permute(0, 2, 3, 1, 4)  # (B, N, num_heads, L, head_dim)\n",
    "K = K.permute(0, 2, 3, 1, 4)  # (B, N, num_heads, L, head_dim)\n",
    "V = V.permute(0, 2, 3, 1, 4)  # (B, N, num_heads, L, head_dim)\n",
    "\n",
    "print(\"Q, K, V: \", Q.shape, K.shape, V.shape)\n",
    "\n",
    "attn = Q @ K.mT / hidden_per_head ** 0.5\n",
    "attn = F.softmax(attn, dim=-1)\n",
    "\n",
    "print(\"attn: \", attn.shape)\n",
    "\n",
    "out = attn @ V # (B, N, num_heads, L, head_dim)\n",
    "out = out.permute(0, 3, 1, 2, 4).contiguous()  # (B, L, N, num_heads, head_dim)\n",
    "out = out.view(B, L, N, hidden)\n",
    "out = out_proj(out)\n",
    "\n",
    "print(\"out: \", out.shape)"
   ]
  },
  {
   "cell_type": "markdown",
   "metadata": {},
   "source": [
    "### Modeling Attention Schemes with ST data"
   ]
  },
  {
   "cell_type": "code",
   "execution_count": 14,
   "metadata": {},
   "outputs": [
    {
     "name": "stdout",
     "output_type": "stream",
     "text": [
      "input shape:  torch.Size([10, 207, 12])\n",
      "build block shapes (Q, K, V):  torch.Size([10, 207, 32, 1]) torch.Size([10, 207, 32, 1]) torch.Size([10, 207, 32, 1])\n",
      "build block shapes (Q, K, V):  torch.Size([10, 8, 207, 4, 1]) torch.Size([10, 8, 207, 4, 1]) torch.Size([10, 8, 207, 4, 1])\n",
      "attention shape:  torch.Size([10, 8, 207, 4])\n",
      "output shape:  torch.Size([10, 207, 32])\n",
      "output shape (after proj):  torch.Size([10, 207, 4])\n"
     ]
    }
   ],
   "source": [
    "# scratch pad\n",
    "\n",
    "x = sample_data.x[:10]\n",
    "x_flat = x.permute(0, 2, 1, 3).reshape(10, 207, 12)\n",
    "print(\"input shape: \", x_flat.shape)\n",
    "\n",
    "num_heads = 8\n",
    "\n",
    "query = nn.Linear(1 * 12, 4 * num_heads)\n",
    "key = nn.Linear(1 * 12, 4 * num_heads)\n",
    "value = nn.Linear(1 * 12, 4 * num_heads)\n",
    "\n",
    "Q = query(x_flat).unsqueeze(-1)\n",
    "K = key(x_flat).unsqueeze(-1)\n",
    "V = value(x_flat).unsqueeze(-1)\n",
    "print(\"build block shapes (Q, K, V): \", Q.shape, K.shape, V.shape)\n",
    "\n",
    "# Reshape for multi-head attention\n",
    "Q = Q.view(10, 207, num_heads, 4, 1).transpose(1, 2)\n",
    "K = K.view(10, 207, num_heads, 4, 1).transpose(1, 2)\n",
    "V = V.view(10, 207, num_heads, 4, 1).transpose(1, 2)\n",
    "\n",
    "print(\"build block shapes (Q, K, V): \", Q.shape, K.shape, V.shape)\n",
    "\n",
    "attn = F.scaled_dot_product_attention(Q, K, V, attn_mask=None).squeeze(-1)\n",
    "print(\"attention shape: \", attn.shape)\n",
    "\n",
    "out = attn.transpose(1, 2).reshape(10, 207, 4 * num_heads)\n",
    "print(\"output shape: \", out.shape)\n",
    "\n",
    "out = nn.Linear(4 * num_heads, 4)(out)\n",
    "print(\"output shape (after proj): \", out.shape)\n",
    "\n",
    "# e = (Q @ K.mT) / 4 ** 0.5\n",
    "# print(\"energy shape: \", e.shape)\n",
    "\n",
    "# attention = F.softmax(e, dim=-1)\n",
    "# out = (attention @ V).squeeze(-1)\n",
    "# print(\"output shape: \", out.shape)"
   ]
  },
  {
   "cell_type": "code",
   "execution_count": 51,
   "metadata": {},
   "outputs": [],
   "source": [
    "# feature vectorization approach (flatten the temporal dim along the feature dim)\n",
    "class SelfAttention(nn.Module):\n",
    "    def __init__(self, input_size, hidden_size, window_size, horizon, num_heads=8, dropout=0.6):\n",
    "        super(SelfAttention, self).__init__()\n",
    "        \n",
    "        self.input_size = input_size\n",
    "        self.hidden_size = hidden_size\n",
    "        self.window_size = window_size\n",
    "        self.horizon = horizon\n",
    "        self.num_heads = num_heads\n",
    "        \n",
    "        self.query = nn.Linear(input_size * window_size, hidden_size * num_heads)\n",
    "        self.key = nn.Linear(input_size * window_size, hidden_size * num_heads)\n",
    "        self.value = nn.Linear(input_size * window_size, hidden_size * num_heads)\n",
    "        self.out = nn.Linear(hidden_size * num_heads, hidden_size)\n",
    "        \n",
    "        self.dropout = nn.Dropout(dropout)\n",
    "        \n",
    "        # STGNN specific utility functions\n",
    "        self.decoder = nn.Linear(hidden_size, input_size * horizon)\n",
    "        \n",
    "        self.scale = self.hidden_size ** 0.5\n",
    "\n",
    "    def forward(self, x):\n",
    "        # feature vectorization: flatten the temporal dim along the feature dim\n",
    "        b, t, n, f = x.size()\n",
    "        x = x.permute(0, 2, 1, 3).reshape(b, n, t * f)\n",
    "        \n",
    "        # masks out the upper triangle (diagonal not included)\n",
    "        self_causal_mask = torch.triu(torch.ones(b, self.num_heads, n, self.hidden_size, self.hidden_size), diagonal=1).bool()\n",
    "\n",
    "        Q = self.query(x).unsqueeze(-1)\n",
    "        K = self.key(x).unsqueeze(-1)\n",
    "        V = self.value(x).unsqueeze(-1)\n",
    "        \n",
    "        # Reshape for multi-head attention\n",
    "        Q = Q.view(b, n, self.num_heads, self.hidden_size, 1).transpose(1, 2)\n",
    "        K = K.view(b, n, self.num_heads, self.hidden_size, 1).transpose(1, 2)\n",
    "        V = V.view(b, n, self.num_heads, self.hidden_size, 1).transpose(1, 2)\n",
    "        \n",
    "        # e = torch.matmul(Q, K.transpose(-2, -1)) / self.scale \n",
    "        e = (Q @ K.mT) / self.scale\n",
    "        e = e.masked_fill(self_causal_mask, float('-inf'))\n",
    "        attention = F.softmax(e, dim=-1)\n",
    "        \n",
    "        # Apply dropout to attention weights\n",
    "        attention = self.dropout(attention)\n",
    "        \n",
    "        out = (attention @ V).squeeze(-1)\n",
    "        \n",
    "        # combine the heads\n",
    "        out = out.transpose(1, 2).contiguous().view(b, n, self.hidden_size * self.num_heads)\n",
    "        out = self.out(out)\n",
    "        \n",
    "        out_horizon = self.decoder(out)\n",
    "        out_horizon = out_horizon.view(b, n, self.horizon, f).permute(0, 2, 1, 3)\n",
    "        \n",
    "        return out_horizon\n",
    "    "
   ]
  },
  {
   "cell_type": "code",
   "execution_count": 52,
   "metadata": {},
   "outputs": [],
   "source": [
    "sample_model = SelfAttention(input_size=1, hidden_size=4, window_size=12, horizon=6, num_heads=8, dropout=0.6)\n",
    "\n",
    "out = sample_model(x)"
   ]
  },
  {
   "cell_type": "code",
   "execution_count": 53,
   "metadata": {},
   "outputs": [
    {
     "name": "stdout",
     "output_type": "stream",
     "text": [
      "Epoch 1/1 Loss: 706.1438598632812\n",
      "Evaluation Loss: 533.530632019043\n"
     ]
    }
   ],
   "source": [
    "attention_block = SelfAttention(input_size=1, hidden_size=4, window_size=12, horizon=6, num_heads=8, dropout=0.6)\n",
    "\n",
    "epochs = 1\n",
    "criterion = nn.MSELoss()\n",
    "optimizer = Adam(attention_block.parameters(), lr=0.001)\n",
    "\n",
    "for epoch in range(epochs):\n",
    "    attention_block.train()\n",
    "    for batch in train_loader:\n",
    "        x, edge_index, edge_weight, y = batch.x, batch.edge_index, batch.edge_weight, batch.y\n",
    "        \n",
    "        out = attention_block(x)\n",
    "        loss = criterion(out, y)\n",
    "        \n",
    "        optimizer.zero_grad()\n",
    "        loss.backward()\n",
    "        optimizer.step()\n",
    "        \n",
    "    print(f'Epoch {epoch+1}/{epochs} Loss: {loss.item()}')\n",
    "    break\n",
    "\n",
    "eval_loss = 0\n",
    "attention_block.eval()\n",
    "with torch.no_grad():\n",
    "    for batch in test_loader:\n",
    "        x, edge_index, edge_weight, y = batch.x, batch.edge_index, batch.edge_weight, batch.y\n",
    "\n",
    "        out = attention_block(x)\n",
    "        eval_loss += criterion(out, y).item()\n",
    "\n",
    "print(f'Evaluation Loss: {eval_loss / len(test_loader)}')"
   ]
  },
  {
   "cell_type": "markdown",
   "metadata": {},
   "source": [
    "### Cross Attention for neighborhood aggregation (TraverseNet)"
   ]
  },
  {
   "cell_type": "code",
   "execution_count": 4,
   "metadata": {},
   "outputs": [
    {
     "name": "stdout",
     "output_type": "stream",
     "text": [
      "x shape after flattening time (query):  torch.Size([10, 207, 12])\n",
      "cross attention shape (key, val):  torch.Size([10, 207, 6])\n"
     ]
    }
   ],
   "source": [
    "x = sample_data.x\n",
    "x_flat = x.permute(0, 2, 1, 3).reshape(10, 207, 12)\n",
    "print(\"x shape after flattening time (query): \", x_flat.shape)\n",
    "\n",
    "cw = 6 # cross attention window\n",
    "x_flat_cw = x_flat[:,:,cw:]\n",
    "print(\"cross attention shape (key, val): \", x_flat_cw.shape)"
   ]
  },
  {
   "cell_type": "code",
   "execution_count": 12,
   "metadata": {},
   "outputs": [
    {
     "name": "stdout",
     "output_type": "stream",
     "text": [
      "Q, K, V:  torch.Size([10, 207, 32]) torch.Size([10, 207, 32]) torch.Size([10, 207, 32])\n",
      "energy shape:  torch.Size([10, 207, 207])\n",
      "output shape:  torch.Size([10, 207, 32])\n"
     ]
    }
   ],
   "source": [
    "num_heads = 8\n",
    "\n",
    "query = nn.Linear(1 * 12, 4 * num_heads)\n",
    "key = nn.Linear(1 * 12, 4 * num_heads)\n",
    "value = nn.Linear(1 * 12, 4 * num_heads)\n",
    "\n",
    "Q = query(x_flat)\n",
    "K = key(x_flat)\n",
    "V = value(x_flat)\n",
    "print(\"Q, K, V: \", Q.shape, K.shape, V.shape)\n",
    "\n",
    "e = (Q @ K.mT) / 4 ** 0.5\n",
    "print(\"energy shape: \", e.shape)\n",
    "\n",
    "attn = F.softmax(e, dim=-1)\n",
    "\n",
    "out = attn @ V\n",
    "print(\"output shape: \", out.shape)"
   ]
  },
  {
   "cell_type": "code",
   "execution_count": 10,
   "metadata": {},
   "outputs": [],
   "source": [
    "class CrossAttention(nn.Module):\n",
    "    def __init__(self, input_size, hidden_size, window_size, horizon, num_heads=8, dropout=0.6):\n",
    "        super(CrossAttention, self).__init__()\n",
    "        \n",
    "        self.input_size = input_size\n",
    "        self.hidden_size = hidden_size\n",
    "        self.window_size = window_size\n",
    "        self.horizon = horizon\n",
    "        self.num_heads = num_heads\n",
    "        \n",
    "        self.query = nn.Linear(input_size * window_size, hidden_size * num_heads)\n",
    "        self.key = nn.Linear(input_size * window_size, hidden_size * num_heads)\n",
    "        self.value = nn.Linear(input_size * window_size, hidden_size * num_heads)\n",
    "        self.out = nn.Linear(hidden_size * num_heads, hidden_size)\n",
    "        \n",
    "        self.dropout = nn.Dropout(dropout)\n",
    "        \n",
    "        # STGNN specific utility functions\n",
    "        self.decoder = nn.Linear(hidden_size, input_size * horizon)\n",
    "        \n",
    "        self.scale = self.hidden_size ** 0.5\n",
    "\n",
    "    def forward(self, x):\n",
    "        b, t, n, f = x.size()\n",
    "        x = x.permute(0, 2, 1, 3).reshape(b, n, t * f)\n",
    "        \n",
    "        # masks out the upper triangle (diagonal not included)\n",
    "\n",
    "        Q = self.query(x)\n",
    "        K = self.key(x)\n",
    "        V = self.value(x)\n",
    "        \n",
    "        e = (Q @ K.mT) / self.scale\n",
    "        attention = F.softmax(e, dim=-1)\n",
    "        \n",
    "        # Apply dropout to attention weights\n",
    "        attention = self.dropout(attention)\n",
    "        \n",
    "        out = (attention @ V).squeeze(-1)\n",
    "        \n",
    "        # combine the heads\n",
    "        out = out.transpose(1, 2).contiguous().view(b, n, self.hidden_size * self.num_heads)\n",
    "        out = self.out(out)\n",
    "        \n",
    "        out_horizon = self.decoder(out)\n",
    "        out_horizon = out_horizon.view(b, n, self.horizon, f).permute(0, 2, 1, 3)\n",
    "        \n",
    "        return out_horizon"
   ]
  },
  {
   "cell_type": "markdown",
   "metadata": {},
   "source": [
    "### Causal Masks"
   ]
  },
  {
   "cell_type": "code",
   "execution_count": 37,
   "metadata": {},
   "outputs": [
    {
     "data": {
      "text/plain": [
       "tensor([[[False,  True,  True,  True],\n",
       "         [False, False,  True,  True],\n",
       "         [False, False, False,  True],\n",
       "         [False, False, False, False]],\n",
       "\n",
       "        [[False,  True,  True,  True],\n",
       "         [False, False,  True,  True],\n",
       "         [False, False, False,  True],\n",
       "         [False, False, False, False]],\n",
       "\n",
       "        [[False,  True,  True,  True],\n",
       "         [False, False,  True,  True],\n",
       "         [False, False, False,  True],\n",
       "         [False, False, False, False]],\n",
       "\n",
       "        [[False,  True,  True,  True],\n",
       "         [False, False,  True,  True],\n",
       "         [False, False, False,  True],\n",
       "         [False, False, False, False]],\n",
       "\n",
       "        [[False,  True,  True,  True],\n",
       "         [False, False,  True,  True],\n",
       "         [False, False, False,  True],\n",
       "         [False, False, False, False]],\n",
       "\n",
       "        [[False,  True,  True,  True],\n",
       "         [False, False,  True,  True],\n",
       "         [False, False, False,  True],\n",
       "         [False, False, False, False]],\n",
       "\n",
       "        [[False,  True,  True,  True],\n",
       "         [False, False,  True,  True],\n",
       "         [False, False, False,  True],\n",
       "         [False, False, False, False]],\n",
       "\n",
       "        [[False,  True,  True,  True],\n",
       "         [False, False,  True,  True],\n",
       "         [False, False, False,  True],\n",
       "         [False, False, False, False]]])"
      ]
     },
     "execution_count": 37,
     "metadata": {},
     "output_type": "execute_result"
    }
   ],
   "source": [
    "self_causal_mask = torch.triu(torch.ones(8, 4,4), diagonal=1).bool()\n",
    "self_causal_mask"
   ]
  }
 ],
 "metadata": {
  "kernelspec": {
   "display_name": "torch-st",
   "language": "python",
   "name": "python3"
  },
  "language_info": {
   "codemirror_mode": {
    "name": "ipython",
    "version": 3
   },
   "file_extension": ".py",
   "mimetype": "text/x-python",
   "name": "python",
   "nbconvert_exporter": "python",
   "pygments_lexer": "ipython3",
   "version": "3.10.16"
  }
 },
 "nbformat": 4,
 "nbformat_minor": 2
}
