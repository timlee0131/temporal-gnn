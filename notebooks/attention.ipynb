{
 "cells": [
  {
   "cell_type": "code",
   "execution_count": 1,
   "metadata": {},
   "outputs": [],
   "source": [
    "import tsl\n",
    "import torch\n",
    "import torch.nn as nn\n",
    "import torch.nn.functional as F\n",
    "import torch_geometric\n",
    "\n",
    "from torch.optim import Adam\n",
    "from tsl.datasets import PeMS04, PeMS07, PeMS08, PemsBay\n",
    "from tsl.datasets import MetrLA\n",
    "from tsl.data import SpatioTemporalDataset\n",
    "from tsl.data.datamodule import (SpatioTemporalDataModule,\n",
    "                                 TemporalSplitter)\n",
    "from tsl.data.preprocessing import StandardScaler\n",
    "from einops.layers.torch import Rearrange\n",
    "\n",
    "import numpy as np\n",
    "import pandas as pd\n",
    "\n",
    "from tqdm import tqdm"
   ]
  },
  {
   "cell_type": "code",
   "execution_count": 2,
   "metadata": {},
   "outputs": [
    {
     "name": "stderr",
     "output_type": "stream",
     "text": [
      "/users/hunjael/.conda/envs/torch-st/lib/python3.10/site-packages/tsl/datasets/metr_la.py:98: FutureWarning: 'T' is deprecated and will be removed in a future version, please use 'min' instead.\n",
      "  date_range = pd.date_range(df.index[0], df.index[-1], freq='5T')\n",
      "/users/hunjael/.conda/envs/torch-st/lib/python3.10/site-packages/tsl/datasets/metr_la.py:109: FutureWarning: The 'method' keyword in DataFrame.replace is deprecated and will be removed in a future version.\n",
      "  df = df.replace(to_replace=0., method='ffill')\n"
     ]
    }
   ],
   "source": [
    "dataset_MetrLA = MetrLA(root='data/MetrLA')\n",
    "\n",
    "# get_connectivity uses get_similarity under the hood\n",
    "connectivity = dataset_MetrLA.get_connectivity(threshold=0.1, include_self=False, normalize_axis=1, layout=\"edge_index\")\n",
    "\n",
    "# subclass of torch.utils.data.Dataset\n",
    "torch_dataset = SpatioTemporalDataset(\n",
    "    target=dataset_MetrLA.dataframe(),\n",
    "    connectivity=connectivity,\n",
    "    mask=dataset_MetrLA.mask,\n",
    "    horizon=6,\n",
    "    window=18,\n",
    "    stride=1\n",
    ")\n",
    "\n",
    "scalers = {'target': StandardScaler(axis=(0, 1))}\n",
    "\n",
    "# Split data sequentially:\n",
    "#   |------------ dataset -----------|\n",
    "#   |--- train ---|- val -|-- test --|\n",
    "splitter = TemporalSplitter(val_len=0.1, test_len=0.2)\n",
    "\n",
    "dm = SpatioTemporalDataModule(\n",
    "    dataset=torch_dataset,\n",
    "    scalers=scalers,\n",
    "    splitter=splitter,\n",
    "    batch_size=64,\n",
    ")\n",
    "\n",
    "dm.setup()\n",
    "\n",
    "train_loader = dm.train_dataloader()\n",
    "val_loader = dm.val_dataloader()\n",
    "test_loader = dm.test_dataloader()"
   ]
  },
  {
   "cell_type": "markdown",
   "metadata": {},
   "source": [
    "### Modeling Attention Schemes with ST data"
   ]
  },
  {
   "cell_type": "code",
   "execution_count": 65,
   "metadata": {},
   "outputs": [],
   "source": [
    "# feature vectorization approach (flatten the temporal dim along the feature dim)\n",
    "class SelfAttention(nn.Module):\n",
    "    def __init__(self, input_size, hidden_size, window_size, num_heads=8, dropout=0.6):\n",
    "        super(SelfAttention, self).__init__()\n",
    "        \n",
    "        self.hidden_size = hidden_size\n",
    "        self.num_heads = num_heads\n",
    "        \n",
    "        self.query = nn.Linear(input_size * window_size, hidden_size * num_heads)\n",
    "        self.key = nn.Linear(input_size * window_size, hidden_size * num_heads)\n",
    "        self.value = nn.Linear(input_size * window_size, hidden_size * num_heads)\n",
    "        self.out = nn.Linear(hidden_size * num_heads, hidden_size)\n",
    "        \n",
    "        self.dropout = nn.Dropout(dropout)\n",
    "        \n",
    "        self.scale = self.hidden_size ** 0.5\n",
    "\n",
    "    def forward(self, x):\n",
    "        # feature vectorization: flatten the temporal dim along the feature dim\n",
    "        b, t, n, f = x.size()\n",
    "        x = x.permute(0, 2, 1, 3).reshape(b, n, t * f)\n",
    "\n",
    "        Q = self.query(x)\n",
    "        K = self.key(x)\n",
    "        V = self.value(x)\n",
    "        \n",
    "        # Reshape for multi-head attention\n",
    "        Q = Q.view(b, n, self.num_heads, self.hidden_size).transpose(1, 2)\n",
    "        K = K.view(b, n, self.num_heads, self.hidden_size).transpose(1, 2)\n",
    "        V = V.view(b, n, self.num_heads, self.hidden_size).transpose(1, 2)\n",
    "        \n",
    "        # e = torch.matmul(Q, K.transpose(-2, -1)) / self.scale\n",
    "        e = (Q @ K.mT) / self.scale\n",
    "        attention = F.softmax(e, dim=-1)\n",
    "        \n",
    "        # Apply dropout to attention weights\n",
    "        attention = self.dropout(attention)\n",
    "        \n",
    "        out = attention @ V\n",
    "        \n",
    "        # combine the heads\n",
    "        out = out.transpose(1, 2).contiguous().view(b, n, self.hidden_size * self.num_heads)\n",
    "        out = self.out(out)\n",
    "        \n",
    "        return out"
   ]
  },
  {
   "cell_type": "code",
   "execution_count": 66,
   "metadata": {},
   "outputs": [],
   "source": [
    "attention_block = SelfAttention(input_size=1, hidden_size=4, window_size=18, num_heads=8, dropout=0.6)\n",
    "\n",
    "for batch in train_loader:\n",
    "    x, edge_index, edge_weight, y = batch.x, batch.edge_index, batch.edge_weight, batch.y\n",
    "    out = attention_block(x)\n",
    "    break"
   ]
  }
 ],
 "metadata": {
  "kernelspec": {
   "display_name": "torch-st",
   "language": "python",
   "name": "python3"
  },
  "language_info": {
   "codemirror_mode": {
    "name": "ipython",
    "version": 3
   },
   "file_extension": ".py",
   "mimetype": "text/x-python",
   "name": "python",
   "nbconvert_exporter": "python",
   "pygments_lexer": "ipython3",
   "version": "3.10.16"
  }
 },
 "nbformat": 4,
 "nbformat_minor": 2
}
