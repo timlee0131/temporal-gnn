{
 "cells": [
  {
   "cell_type": "code",
   "execution_count": 1,
   "metadata": {},
   "outputs": [],
   "source": [
    "import tsl\n",
    "import torch\n",
    "import torch_geometric\n",
    "\n",
    "from torch.optim import Adam\n",
    "from tsl.datasets import PeMS04, PeMS07, PeMS08, PemsBay\n",
    "from tsl.datasets import MetrLA\n",
    "\n",
    "import numpy as np\n",
    "import pandas as pd\n",
    "\n",
    "from tqdm import tqdm"
   ]
  },
  {
   "cell_type": "code",
   "execution_count": 8,
   "metadata": {},
   "outputs": [],
   "source": [
    "root_path = '../data/pems-raw/'\n",
    "pems03 = np.load(root_path + 'PEMS03/PEMS03.npz')\n",
    "pems04 = np.load(root_path + 'PEMS04/PEMS04.npz')\n",
    "pems07 = np.load(root_path + 'PEMS07/PEMS07.npz')\n",
    "pems08 = np.load(root_path + 'PEMS08/PEMS08.npz')"
   ]
  },
  {
   "cell_type": "code",
   "execution_count": 11,
   "metadata": {},
   "outputs": [
    {
     "name": "stdout",
     "output_type": "stream",
     "text": [
      "File: PEMS03\n",
      "Array: data\n",
      "  Shape: (26208, 358, 1)\n",
      "  Data type: float64\n",
      "  Size: 9382464\n",
      "  Dimensions: 3\n",
      "\n",
      "File: PEMS04\n",
      "Array: data\n",
      "  Shape: (16992, 307, 3)\n",
      "  Data type: float64\n",
      "  Size: 15649632\n",
      "  Dimensions: 3\n",
      "\n",
      "File: PEMS07\n",
      "Array: data\n",
      "  Shape: (28224, 883, 1)\n",
      "  Data type: float64\n",
      "  Size: 24921792\n",
      "  Dimensions: 3\n",
      "\n",
      "File: PEMS08\n",
      "Array: data\n",
      "  Shape: (17856, 170, 3)\n",
      "  Data type: float64\n",
      "  Size: 9106560\n",
      "  Dimensions: 3\n",
      "\n"
     ]
    }
   ],
   "source": [
    "pems_series = [pems03, pems04, pems07, pems08]\n",
    "pems_names = ['PEMS03', 'PEMS04', 'PEMS07', 'PEMS08']\n",
    "\n",
    "for i, pems in enumerate(pems_series):\n",
    "    print(f\"File: {pems_names[i]}\")\n",
    "    for key in pems.files:\n",
    "        array = pems[key]\n",
    "        print(f\"Array: {key}\")\n",
    "        print(f\"  Shape: {array.shape}\")\n",
    "        print(f\"  Data type: {array.dtype}\")\n",
    "        print(f\"  Size: {array.size}\")\n",
    "        print(f\"  Dimensions: {array.ndim}\")\n",
    "        print()\n"
   ]
  },
  {
   "cell_type": "code",
   "execution_count": 26,
   "metadata": {},
   "outputs": [],
   "source": [
    "pems03_csv = pd.read_csv(root_path + 'PEMS03/PEMS03.csv')\n",
    "pems04_csv = pd.read_csv(root_path + 'PEMS04/PEMS04.csv')\n",
    "pems07_csv = pd.read_csv(root_path + 'PEMS07/PEMS07.csv')\n",
    "pems08_csv = pd.read_csv(root_path + 'PEMS08/PEMS08.csv')\n",
    "\n",
    "pems_csv_series = [pems03_csv, pems04_csv, pems07_csv, pems08_csv]"
   ]
  },
  {
   "cell_type": "code",
   "execution_count": 27,
   "metadata": {},
   "outputs": [
    {
     "name": "stdout",
     "output_type": "stream",
     "text": [
      "     from      to  distance\n",
      "0  317842  318711     0.872\n",
      "1  318721  315955     1.322\n",
      "2  315927  318236     1.222\n",
      "3  318711  318721     0.233\n",
      "4  318236  317843     1.220\n",
      "\n",
      "   from   to   cost\n",
      "0    73    5  352.6\n",
      "1     5  154  347.2\n",
      "2   154  263  392.9\n",
      "3   263   56  440.8\n",
      "4    56   96  374.6\n",
      "\n",
      "   from   to   cost\n",
      "0   721  445  0.790\n",
      "1   542  480  2.575\n",
      "2   770  702  0.926\n",
      "3    32  266  0.596\n",
      "4    34   56  0.628\n",
      "\n",
      "   from   to   cost\n",
      "0     9  153  310.6\n",
      "1   153   62  330.9\n",
      "2    62  111  332.9\n",
      "3   111   11  324.2\n",
      "4    11   28  336.0\n",
      "\n"
     ]
    }
   ],
   "source": [
    "for pems_csv in pems_csv_series:\n",
    "    print(pems_csv.head())\n",
    "    print()"
   ]
  },
  {
   "cell_type": "code",
   "execution_count": 50,
   "metadata": {},
   "outputs": [
    {
     "data": {
      "text/plain": [
       "(np.int64(318844), np.int64(311903))"
      ]
     },
     "execution_count": 50,
     "metadata": {},
     "output_type": "execute_result"
    }
   ],
   "source": [
    "max_node = pems03_csv['from'].max()\n",
    "min_node = pems03_csv['from'].min()\n",
    "\n",
    "max_node, min_node"
   ]
  },
  {
   "cell_type": "code",
   "execution_count": 47,
   "metadata": {},
   "outputs": [
    {
     "data": {
      "text/plain": [
       "163"
      ]
     },
     "execution_count": 47,
     "metadata": {},
     "output_type": "execute_result"
    }
   ],
   "source": [
    "len(pems08_csv['from'].unique())"
   ]
  },
  {
   "cell_type": "code",
   "execution_count": 58,
   "metadata": {},
   "outputs": [
    {
     "name": "stdout",
     "output_type": "stream",
     "text": [
      "[[1.33e+02 6.03e-02 6.58e+01 ... 6.93e+01 8.60e+01 2.68e-02]\n",
      " [6.57e+01 6.70e+01 1.70e-02 ... 1.51e-02 6.86e+01 4.50e+01]\n",
      " [2.04e-02 6.79e+01 9.10e+01 ... 6.00e+00 3.10e-03 6.50e+01]\n",
      " ...\n",
      " [1.02e+02 5.65e-02 6.17e+01 ... 6.74e+01 9.00e+01 3.78e-02]\n",
      " [6.25e+01 3.70e+01 9.50e-03 ... 2.74e-02 4.50e+01 4.60e+01]\n",
      " [1.96e-02 6.86e+01 8.90e+01 ... 6.00e+00 2.60e-03 6.52e+01]]\n"
     ]
    }
   ],
   "source": [
    "print(pems08['data'][:, :, :].reshape(-1, pems08['data'].shape[1]))"
   ]
  }
 ],
 "metadata": {
  "kernelspec": {
   "display_name": "torch-st",
   "language": "python",
   "name": "python3"
  },
  "language_info": {
   "codemirror_mode": {
    "name": "ipython",
    "version": 3
   },
   "file_extension": ".py",
   "mimetype": "text/x-python",
   "name": "python",
   "nbconvert_exporter": "python",
   "pygments_lexer": "ipython3",
   "version": "3.10.16"
  }
 },
 "nbformat": 4,
 "nbformat_minor": 2
}
